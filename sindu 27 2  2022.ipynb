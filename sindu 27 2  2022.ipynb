{
 "cells": [
  {
   "cell_type": "code",
   "execution_count": 3,
   "id": "8f926940",
   "metadata": {},
   "outputs": [
    {
     "name": "stdout",
     "output_type": "stream",
     "text": [
      "enter a number123\n",
      "3 2 1 "
     ]
    }
   ],
   "source": [
    "# input: 123\n",
    "# output: 321\n",
    "a = int(input(\"enter a number\"))\n",
    "while a!=0:\n",
    "    print(a%10,end= \" \")\n",
    "    a = a//10"
   ]
  },
  {
   "cell_type": "code",
   "execution_count": 1,
   "id": "5f9dd87c",
   "metadata": {},
   "outputs": [
    {
     "name": "stdout",
     "output_type": "stream",
     "text": [
      "enter a number1\n",
      "one "
     ]
    }
   ],
   "source": [
    "# input: 123\n",
    "# output:one two three\n",
    "a = int(input(\"enter a number\"))\n",
    "while a!=0:\n",
    "    b=a%10\n",
    "    if b == 0:\n",
    "        print(\"zero\",end = \" \")\n",
    "    elif b == 1:\n",
    "        print(\"one\",end =\" \")\n",
    "    elif b == 2:\n",
    "        print(\"two\",end =\" \")\n",
    "    elif b == 3:\n",
    "        print(\"three\",end =\" \")\n",
    "    elif b == 4:\n",
    "        print(\"four\",end =\" \")\n",
    "    elif b == 5:\n",
    "        print(\"five\",end =\" \")\n",
    "    elif b == 6:\n",
    "        print(\"six\",end =\" \")\n",
    "    elif b == 7:\n",
    "        print(\"seven\",end =\" \")\n",
    "    elif b == 8:\n",
    "        print(\"eight\",end =\" \")\n",
    "    elif b == 9:\n",
    "        print(\"nine\",end =\" \")\n",
    "    a = a//10\n",
    "    \n",
    "\n",
    "        \n",
    "            \n"
   ]
  },
  {
   "cell_type": "code",
   "execution_count": null,
   "id": "81273805",
   "metadata": {},
   "outputs": [],
   "source": []
  },
  {
   "cell_type": "code",
   "execution_count": 2,
   "id": "c2a71659",
   "metadata": {},
   "outputs": [
    {
     "name": "stdout",
     "output_type": "stream",
     "text": [
      "Collecting num2words\n",
      "  Downloading num2words-0.5.10-py3-none-any.whl (101 kB)\n",
      "Collecting docopt>=0.6.2\n",
      "  Downloading docopt-0.6.2.tar.gz (25 kB)\n",
      "Building wheels for collected packages: docopt\n",
      "  Building wheel for docopt (setup.py): started\n",
      "  Building wheel for docopt (setup.py): finished with status 'done'\n",
      "  Created wheel for docopt: filename=docopt-0.6.2-py2.py3-none-any.whl size=13705 sha256=1fc3d987aabcf104c11565630dc93c0b6fe91fc12a4a823dfa64166010c8827d\n",
      "  Stored in directory: c:\\users\\user 15\\appdata\\local\\pip\\cache\\wheels\\56\\ea\\58\\ead137b087d9e326852a851351d1debf4ada529b6ac0ec4e8c\n",
      "Successfully built docopt\n",
      "Installing collected packages: docopt, num2words\n",
      "Successfully installed docopt-0.6.2 num2words-0.5.10\n",
      "Note: you may need to restart the kernel to use updated packages.\n"
     ]
    }
   ],
   "source": [
    "pip install num2words"
   ]
  },
  {
   "cell_type": "code",
   "execution_count": null,
   "id": "07ac6eae",
   "metadata": {},
   "outputs": [],
   "source": [
    "from num2words import num2words\n",
    "print(num2words(123))"
   ]
  },
  {
   "cell_type": "code",
   "execution_count": 5,
   "id": "b4298460",
   "metadata": {},
   "outputs": [
    {
     "name": "stdout",
     "output_type": "stream",
     "text": [
      "enter a number10\n",
      "10 9 8 7 6 5 4 3 2 1 "
     ]
    }
   ],
   "source": [
    "#input: 10\n",
    "#output: 10 9 8 7 6 5 4 3 2 1\n",
    "i = int(input(\"enter a number\"))\n",
    "n = 1\n",
    "while i>= n:\n",
    "    print(i,end =\" \")\n",
    "    i = i-1\n",
    "    "
   ]
  },
  {
   "cell_type": "code",
   "execution_count": null,
   "id": "ce781d0d",
   "metadata": {},
   "outputs": [],
   "source": [
    "# find count of digits"
   ]
  },
  {
   "cell_type": "code",
   "execution_count": 6,
   "id": "532b5112",
   "metadata": {},
   "outputs": [
    {
     "name": "stdout",
     "output_type": "stream",
     "text": [
      "123456\n",
      "6\n"
     ]
    }
   ],
   "source": [
    "n = int(input())\n",
    "c = 0\n",
    "while n !=0:\n",
    "    n =n//10\n",
    "    c = c+1\n",
    "print(c)"
   ]
  },
  {
   "cell_type": "markdown",
   "id": "6e8979d2",
   "metadata": {},
   "source": [
    "# Brake statement\n",
    "- we can stop loop the even while is true condition is true"
   ]
  },
  {
   "cell_type": "code",
   "execution_count": 10,
   "id": "4508a6ed",
   "metadata": {},
   "outputs": [
    {
     "name": "stdout",
     "output_type": "stream",
     "text": [
      "1 2 3 "
     ]
    }
   ],
   "source": [
    "i = 1\n",
    "while i <=5:\n",
    "    print(i,end=\" \")\n",
    "    if i ==3:\n",
    "        break\n",
    "    i +=1"
   ]
  },
  {
   "cell_type": "markdown",
   "id": "6618d33d",
   "metadata": {},
   "source": [
    "# continue\n",
    "- it will skip the given number and the loop continous"
   ]
  },
  {
   "cell_type": "code",
   "execution_count": 11,
   "id": "4d2e7b8f",
   "metadata": {},
   "outputs": [
    {
     "name": "stdout",
     "output_type": "stream",
     "text": [
      "1 2 4 5 6 "
     ]
    }
   ],
   "source": [
    "i = 0\n",
    "while i <=5:\n",
    "    i +=1\n",
    "    if i ==3:\n",
    "        continue\n",
    "    print(i,end=\" \")"
   ]
  },
  {
   "cell_type": "markdown",
   "id": "3f59b190",
   "metadata": {},
   "source": [
    "# For Loop Statement:\n",
    "- syntax"
   ]
  },
  {
   "cell_type": "code",
   "execution_count": 12,
   "id": "0d996819",
   "metadata": {},
   "outputs": [
    {
     "name": "stdout",
     "output_type": "stream",
     "text": [
      "0 1 2 3 4 5 6 7 "
     ]
    }
   ],
   "source": [
    "for i in range(8):\n",
    "    print(i,end=\" \")"
   ]
  },
  {
   "cell_type": "code",
   "execution_count": 13,
   "id": "97e30a10",
   "metadata": {},
   "outputs": [
    {
     "name": "stdout",
     "output_type": "stream",
     "text": [
      "2 3 4 5 6 7 8 "
     ]
    }
   ],
   "source": [
    "for i in range(2,9):\n",
    "    print(i,end=\" \")"
   ]
  },
  {
   "cell_type": "code",
   "execution_count": 14,
   "id": "3815842c",
   "metadata": {},
   "outputs": [
    {
     "name": "stdout",
     "output_type": "stream",
     "text": [
      "1 3 5 7 9 11 13 15 17 19 "
     ]
    }
   ],
   "source": [
    "# print odd numbers\n",
    "for i in range(1,20,2):\n",
    "    print(i,end=\" \")\n"
   ]
  },
  {
   "cell_type": "code",
   "execution_count": 15,
   "id": "30d1e712",
   "metadata": {},
   "outputs": [
    {
     "name": "stdout",
     "output_type": "stream",
     "text": [
      "1 2 3 4 5 6 7 8 9 "
     ]
    }
   ],
   "source": [
    "# print 1 2 3 4 5 6 7 8 9\n",
    "for i in range(1,10):\n",
    "    print(i,end=\" \")\n",
    "\n"
   ]
  },
  {
   "cell_type": "code",
   "execution_count": 19,
   "id": "90cbfa72",
   "metadata": {},
   "outputs": [
    {
     "name": "stdout",
     "output_type": "stream",
     "text": [
      "10 9 8 7 6 5 4 3 2 1 "
     ]
    }
   ],
   "source": [
    "# print 10 9 8 7 6 5 4 3 2 1\n",
    "for i in range(10,0,-1):\n",
    "    print(i,end=\" \")\n"
   ]
  },
  {
   "cell_type": "code",
   "execution_count": 21,
   "id": "01388a40",
   "metadata": {},
   "outputs": [
    {
     "name": "stdout",
     "output_type": "stream",
     "text": [
      "15 30 45 60 75 90 "
     ]
    }
   ],
   "source": [
    "# from 0 to 100 print multiples of both 3 and 5\n",
    "for i in range(1,100):\n",
    "    if i%3 == 0 and i%5 == 0:\n",
    "        print(i,end=\" \")\n",
    "        \n",
    "        \n",
    "    "
   ]
  },
  {
   "cell_type": "code",
   "execution_count": 33,
   "id": "cb148e99",
   "metadata": {},
   "outputs": [
    {
     "name": "stdout",
     "output_type": "stream",
     "text": [
      "sum is : 5050\n"
     ]
    }
   ],
   "source": [
    "for i in range(0,100,1):\n",
    "    s = 0\n",
    "    for i in range(0,101,1):\n",
    "        s = s+i\n",
    "print(\"sum is :\",s)\n",
    "    "
   ]
  },
  {
   "cell_type": "code",
   "execution_count": 37,
   "id": "94004b50",
   "metadata": {},
   "outputs": [
    {
     "name": "stdout",
     "output_type": "stream",
     "text": [
      "500\n",
      "125250\n"
     ]
    }
   ],
   "source": [
    "n = int(input())\n",
    "s = 0\n",
    "for i in range(1,n+1,1):\n",
    "    s = s+i\n",
    "print(s)    "
   ]
  },
  {
   "cell_type": "code",
   "execution_count": null,
   "id": "b17ec5b7",
   "metadata": {},
   "outputs": [],
   "source": []
  }
 ],
 "metadata": {
  "kernelspec": {
   "display_name": "Python 3",
   "language": "python",
   "name": "python3"
  },
  "language_info": {
   "codemirror_mode": {
    "name": "ipython",
    "version": 3
   },
   "file_extension": ".py",
   "mimetype": "text/x-python",
   "name": "python",
   "nbconvert_exporter": "python",
   "pygments_lexer": "ipython3",
   "version": "3.8.8"
  }
 },
 "nbformat": 4,
 "nbformat_minor": 5
}
