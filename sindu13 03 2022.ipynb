{
 "cells": [
  {
   "cell_type": "code",
   "execution_count": 1,
   "id": "1a39b54d",
   "metadata": {},
   "outputs": [
    {
     "name": "stdout",
     "output_type": "stream",
     "text": [
      "Hello world \n",
      "Hello world \n",
      "Hello world \n",
      "Hello world \n",
      "Hello world \n",
      "Hello world \n",
      "Hello world \n",
      "Hello world \n",
      "Hello world \n",
      "Hello world \n",
      "welcome to the new world\n",
      "welcome to the new world \n",
      "\n"
     ]
    }
   ],
   "source": [
    "# READ A FILE\n",
    "def readfile(filename):\n",
    "    with open(filename,\"r\") as f:\n",
    "        if f.mode == \"r\":\n",
    "            x = f.read()\n",
    "            print(x)\n",
    "readfile(\"text.txt\")            "
   ]
  },
  {
   "cell_type": "code",
   "execution_count": 2,
   "id": "c370afc7",
   "metadata": {},
   "outputs": [
    {
     "data": {
      "text/plain": [
       "30"
      ]
     },
     "execution_count": 2,
     "metadata": {},
     "output_type": "execute_result"
    }
   ],
   "source": [
    "# WORD COUNT\n",
    "def wordcount(filename):\n",
    "    with open(filename,\"r\") as f:\n",
    "        if f.mode ==\"r\":\n",
    "            x = f.read()\n",
    "            l = x.split()\n",
    "        return len(l)\n",
    "wordcount(\"text.txt\")    "
   ]
  },
  {
   "cell_type": "code",
   "execution_count": 4,
   "id": "949d14d9",
   "metadata": {},
   "outputs": [
    {
     "data": {
      "text/plain": [
       "34"
      ]
     },
     "execution_count": 4,
     "metadata": {},
     "output_type": "execute_result"
    }
   ],
   "source": [
    "wordcount(\"file.txt\") "
   ]
  },
  {
   "cell_type": "code",
   "execution_count": 7,
   "id": "26f47064",
   "metadata": {},
   "outputs": [
    {
     "data": {
      "text/plain": [
       "0"
      ]
     },
     "execution_count": 7,
     "metadata": {},
     "output_type": "execute_result"
    }
   ],
   "source": [
    "# specific word count\n",
    "def specific(filename,word):\n",
    "    with open(filename,\"r\") as f:\n",
    "        if f.mode ==\"r\":\n",
    "            x = f.read()\n",
    "            l = x.split()\n",
    "        return l.count(word)\n",
    "specific(\"file.txt\",\"welcome\")    \n",
    "        "
   ]
  },
  {
   "cell_type": "code",
   "execution_count": 8,
   "id": "0266f9e9",
   "metadata": {},
   "outputs": [
    {
     "data": {
      "text/plain": [
       "10"
      ]
     },
     "execution_count": 8,
     "metadata": {},
     "output_type": "execute_result"
    }
   ],
   "source": [
    "specific(\"text.txt\",\"Hello\")    "
   ]
  },
  {
   "cell_type": "code",
   "execution_count": 9,
   "id": "4e18cc4f",
   "metadata": {},
   "outputs": [
    {
     "data": {
      "text/plain": [
       "158"
      ]
     },
     "execution_count": 9,
     "metadata": {},
     "output_type": "execute_result"
    }
   ],
   "source": [
    "# count characters\n",
    "def char(filename):\n",
    "    with open(filename,\"r\") as f:\n",
    "        if f.mode ==\"r\":\n",
    "            x = f.read()\n",
    "            l = list(x)\n",
    "        return len(l)\n",
    "char(\"file.txt\")    \n",
    "    "
   ]
  },
  {
   "cell_type": "code",
   "execution_count": 10,
   "id": "c04b3583",
   "metadata": {},
   "outputs": [
    {
     "data": {
      "text/plain": [
       "181"
      ]
     },
     "execution_count": 10,
     "metadata": {},
     "output_type": "execute_result"
    }
   ],
   "source": [
    "char(\"text.txt\")"
   ]
  },
  {
   "cell_type": "code",
   "execution_count": 11,
   "id": "f70effea",
   "metadata": {},
   "outputs": [
    {
     "data": {
      "text/plain": [
       "11"
      ]
     },
     "execution_count": 11,
     "metadata": {},
     "output_type": "execute_result"
    }
   ],
   "source": [
    "# count lines\n",
    "def countlines(filename):\n",
    "    with open (filename,\"r\") as f:\n",
    "        if f.mode ==\"r\":\n",
    "            x = f.read()\n",
    "            l = x.split(\"\\n\")\n",
    "        return len(l)\n",
    "countlines(\"file.txt\")    \n",
    "        "
   ]
  },
  {
   "cell_type": "code",
   "execution_count": 12,
   "id": "dbcef6c2",
   "metadata": {},
   "outputs": [
    {
     "data": {
      "text/plain": [
       "13"
      ]
     },
     "execution_count": 12,
     "metadata": {},
     "output_type": "execute_result"
    }
   ],
   "source": [
    "countlines(\"text.txt\")    \n",
    "        "
   ]
  },
  {
   "cell_type": "markdown",
   "id": "e1b72985",
   "metadata": {},
   "source": [
    "# string slicing:\n"
   ]
  },
  {
   "cell_type": "code",
   "execution_count": 13,
   "id": "0d8e2536",
   "metadata": {},
   "outputs": [
    {
     "name": "stdout",
     "output_type": "stream",
     "text": [
      "python programming <class 'str'>\n"
     ]
    }
   ],
   "source": [
    "s = \"python programming\"\n",
    "print(s,type(s))"
   ]
  },
  {
   "cell_type": "code",
   "execution_count": 14,
   "id": "00683c43",
   "metadata": {},
   "outputs": [
    {
     "name": "stdout",
     "output_type": "stream",
     "text": [
      "p\n",
      "g\n",
      "python \n",
      "ython pr\n"
     ]
    }
   ],
   "source": [
    "# access\n",
    "print(s[0])\n",
    "print(s[-1])\n",
    "print(s[0:7])\n",
    "print(s[1:9])"
   ]
  },
  {
   "cell_type": "code",
   "execution_count": 16,
   "id": "430c66d2",
   "metadata": {},
   "outputs": [
    {
     "name": "stdout",
     "output_type": "stream",
     "text": [
      "yp\n",
      "tp\n"
     ]
    }
   ],
   "source": [
    "# WANT TO PRINT  STRING\n",
    "print(s[1::-1])\n",
    "print(s[2::-2])\n"
   ]
  },
  {
   "cell_type": "code",
   "execution_count": 18,
   "id": "dbe7b8f7",
   "metadata": {},
   "outputs": [
    {
     "name": "stdout",
     "output_type": "stream",
     "text": [
      "ython programmin\n",
      "thon programmi\n"
     ]
    }
   ],
   "source": [
    "# REVERSE\n",
    "s = \"python programming\"\n",
    "print(s[1:-1])\n",
    "print(s[2:-2])"
   ]
  },
  {
   "cell_type": "code",
   "execution_count": 19,
   "id": "f038f760",
   "metadata": {},
   "outputs": [
    {
     "data": {
      "text/plain": [
       "'gnimmargorp nohtyp'"
      ]
     },
     "execution_count": 19,
     "metadata": {},
     "output_type": "execute_result"
    }
   ],
   "source": [
    "def reverse(n):\n",
    "    return n[::-1]\n",
    "reverse(\"python programming\")"
   ]
  },
  {
   "cell_type": "markdown",
   "id": "20824aa1",
   "metadata": {},
   "source": [
    "# ASCII SYSTEMS\n",
    "- A-Z-->65- 90\n",
    "- a-z-->97- 122\n",
    "- 0-9-48-57\n",
    "- space-32"
   ]
  },
  {
   "cell_type": "code",
   "execution_count": 23,
   "id": "ac2d8eef",
   "metadata": {},
   "outputs": [
    {
     "name": "stdout",
     "output_type": "stream",
     "text": [
      "y 121 R 82\n"
     ]
    }
   ],
   "source": [
    "s = \"y\"\n",
    "s1 = \"R\"\n",
    "print(s,ord(s),s1,ord(s1))"
   ]
  },
  {
   "cell_type": "code",
   "execution_count": 24,
   "id": "ab5a89c6",
   "metadata": {},
   "outputs": [
    {
     "name": "stdout",
     "output_type": "stream",
     "text": [
      "A B C D E F G H I J K L M N O P Q R S T U V W X Y Z "
     ]
    }
   ],
   "source": [
    "# A-Z\n",
    "for i in range(65,91):\n",
    "    print(chr(i),end = \" \")"
   ]
  },
  {
   "cell_type": "code",
   "execution_count": 29,
   "id": "e9f32b29",
   "metadata": {},
   "outputs": [
    {
     "name": "stdout",
     "output_type": "stream",
     "text": [
      "a b c d e f g h i j k l m n o p q r s t u v w x y z "
     ]
    }
   ],
   "source": [
    "# a-z\n",
    "for i in range(97,123):\n",
    "    print(chr(i),end = \" \")"
   ]
  },
  {
   "cell_type": "code",
   "execution_count": 28,
   "id": "d42a76cb",
   "metadata": {},
   "outputs": [
    {
     "name": "stdout",
     "output_type": "stream",
     "text": [
      "0 1 2 3 4 5 6 7 8 9 "
     ]
    }
   ],
   "source": [
    "# 0-9\n",
    "for i in range(48,58):\n",
    "    print(chr(i),end = \" \")"
   ]
  },
  {
   "cell_type": "code",
   "execution_count": 30,
   "id": "3164e909",
   "metadata": {},
   "outputs": [
    {
     "data": {
      "text/plain": [
       "False"
      ]
     },
     "execution_count": 30,
     "metadata": {},
     "output_type": "execute_result"
    }
   ],
   "source": [
    "# check given string is palindrome or not\n",
    "def palindrome(s):\n",
    "    if s ==s[::-1]:\n",
    "        return True\n",
    "    return False\n",
    "palindrome(\"sindu\")"
   ]
  },
  {
   "cell_type": "code",
   "execution_count": 31,
   "id": "1356d3b4",
   "metadata": {},
   "outputs": [
    {
     "data": {
      "text/plain": [
       "True"
      ]
     },
     "execution_count": 31,
     "metadata": {},
     "output_type": "execute_result"
    }
   ],
   "source": [
    "palindrome(\"madam\")"
   ]
  },
  {
   "cell_type": "code",
   "execution_count": 34,
   "id": "370a116e",
   "metadata": {},
   "outputs": [
    {
     "name": "stdout",
     "output_type": "stream",
     "text": [
      "S I N D U S "
     ]
    }
   ],
   "source": [
    "# print upper case characters from given string\n",
    "def upper(x):\n",
    "    for i in range(len(x)):\n",
    "        if ord(x[i])>65 and ord(x[i])<91:\n",
    "            print(x[i],end = \" \")\n",
    "upper(\"SINDU Srinivas\")            \n",
    "            "
   ]
  },
  {
   "cell_type": "code",
   "execution_count": 45,
   "id": "36f075f8",
   "metadata": {},
   "outputs": [
    {
     "name": "stdout",
     "output_type": "stream",
     "text": [
      "s r i n i v a s "
     ]
    }
   ],
   "source": [
    "# print lower case characters from given string\n",
    "def lower(x):\n",
    "    for i in range(len(x)):\n",
    "        if ord(x[i])>96 and ord(x[i])<123:\n",
    "            print(x[i],end = \" \")\n",
    "lower(\"SINDU srinivas\")            "
   ]
  },
  {
   "cell_type": "code",
   "execution_count": 44,
   "id": "2ea5c6e9",
   "metadata": {},
   "outputs": [
    {
     "name": "stdout",
     "output_type": "stream",
     "text": [
      "1 9 6 8 1 9 7 4 "
     ]
    }
   ],
   "source": [
    "# print digits from given string\n",
    "def digits(x):\n",
    "    for i in range(len(x)):\n",
    "        if ord(x[i])>48 and ord(x[i])<58:\n",
    "            print(x[i],end = \" \")\n",
    "digits(\"sindu 1968 1974\")            \n"
   ]
  },
  {
   "cell_type": "code",
   "execution_count": 51,
   "id": "d4730475",
   "metadata": {},
   "outputs": [
    {
     "data": {
      "text/plain": [
       "' pYTHOn'"
      ]
     },
     "execution_count": 51,
     "metadata": {},
     "output_type": "execute_result"
    }
   ],
   "source": [
    "# input:PythoN\n",
    "# output:pYTHOn\n",
    "def case(x):\n",
    "    s1 = \" \"\n",
    "    for i in range(len(x)):\n",
    "        if ord(x[i])>65 and ord(x[i])<90:\n",
    "            s1 += chr(ord(x[i])+32)\n",
    "        elif ord(x[i])>97 and ord(x[i])<122:\n",
    "            s1 += chr(ord(x[i])-32)\n",
    "    return s1\n",
    "case(\"PythoN\")"
   ]
  },
  {
   "cell_type": "code",
   "execution_count": 60,
   "id": "cdf6a405",
   "metadata": {},
   "outputs": [
    {
     "data": {
      "text/plain": [
       "10"
      ]
     },
     "execution_count": 60,
     "metadata": {},
     "output_type": "execute_result"
    }
   ],
   "source": [
    "# input:\"p1y2y3o4\"\n",
    "# output:10(1+2+3+4)\n",
    "def sum(s):\n",
    "    sum = 0\n",
    "    for i in range(len(s)):\n",
    "        if ord(s[i])>48 and ord(s[i])<58:\n",
    "            sum += ord(s[i])-48\n",
    "    return sum\n",
    "sum(\"p1y2y3o4\")"
   ]
  },
  {
   "cell_type": "code",
   "execution_count": null,
   "id": "b0e64a26",
   "metadata": {},
   "outputs": [],
   "source": []
  },
  {
   "cell_type": "code",
   "execution_count": null,
   "id": "50c5cd4d",
   "metadata": {},
   "outputs": [],
   "source": []
  }
 ],
 "metadata": {
  "kernelspec": {
   "display_name": "Python 3 (ipykernel)",
   "language": "python",
   "name": "python3"
  },
  "language_info": {
   "codemirror_mode": {
    "name": "ipython",
    "version": 3
   },
   "file_extension": ".py",
   "mimetype": "text/x-python",
   "name": "python",
   "nbconvert_exporter": "python",
   "pygments_lexer": "ipython3",
   "version": "3.9.7"
  }
 },
 "nbformat": 4,
 "nbformat_minor": 5
}
