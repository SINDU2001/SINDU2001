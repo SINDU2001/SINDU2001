{
 "cells": [
  {
   "cell_type": "markdown",
   "id": "1df8e3dd",
   "metadata": {},
   "source": [
    "# DATA STRUCTURES:\n",
    " - LIST\n",
    " - TUPLE\n",
    " - DICTIONARY\n",
    " - IT WILL STORE DATA IN SOME PARTICULAR DATA STRUCTURE\n",
    " - SOTING\n",
    " - SEARCHING\n",
    " - STORING\n",
    " "
   ]
  },
  {
   "cell_type": "code",
   "execution_count": 1,
   "id": "c6aa6dd2",
   "metadata": {},
   "outputs": [
    {
     "name": "stdout",
     "output_type": "stream",
     "text": [
      "[1, 2, 3, 4, 5, 6, 7]\n"
     ]
    }
   ],
   "source": [
    "l = [1,2,3,4,5,6,7]\n",
    "print(l)"
   ]
  },
  {
   "cell_type": "code",
   "execution_count": 2,
   "id": "74836b22",
   "metadata": {},
   "outputs": [
    {
     "name": "stdout",
     "output_type": "stream",
     "text": [
      "1\n",
      "1\n"
     ]
    }
   ],
   "source": [
    "# access 1st element\n",
    "print(l[0])\n",
    "print(l[-7])\n"
   ]
  },
  {
   "cell_type": "code",
   "execution_count": 4,
   "id": "955987a1",
   "metadata": {},
   "outputs": [
    {
     "name": "stdout",
     "output_type": "stream",
     "text": [
      "[1, 2, 3, 4, 5]\n",
      "[2, 3, 4]\n"
     ]
    }
   ],
   "source": [
    "# access the range of elements\n",
    "print(l[0:5])\n",
    "print(l[1:4])"
   ]
  },
  {
   "cell_type": "markdown",
   "id": "aa472f93",
   "metadata": {},
   "source": [
    "# update the elements"
   ]
  },
  {
   "cell_type": "code",
   "execution_count": 5,
   "id": "99073e6e",
   "metadata": {},
   "outputs": [
    {
     "name": "stdout",
     "output_type": "stream",
     "text": [
      "[1, 2, 3, 4, 5, 6, 7]\n",
      "[1, 2, 10, 4, 5, 6, 7]\n"
     ]
    }
   ],
   "source": [
    "l = [1,2,3,4,5,6,7]\n",
    "print(l)\n",
    "l[2]=10\n",
    "print(l)"
   ]
  },
  {
   "cell_type": "code",
   "execution_count": 7,
   "id": "b4e3fef8",
   "metadata": {},
   "outputs": [
    {
     "name": "stdout",
     "output_type": "stream",
     "text": [
      "[1, 2, 3, 4, 5, 6, 7]\n",
      "[9, 8, 7, 3, 4, 5, 6, 7]\n"
     ]
    }
   ],
   "source": [
    "# update range of elements:\n",
    "l = [1,2,3,4,5,6,7]\n",
    "print(l)\n",
    "l[0:2]= [9,8,7]\n",
    "print(l)"
   ]
  },
  {
   "cell_type": "markdown",
   "id": "0899fda0",
   "metadata": {},
   "source": [
    "# list methods:"
   ]
  },
  {
   "cell_type": "markdown",
   "id": "a602666f",
   "metadata": {},
   "source": [
    "## insert method:\n",
    "- it inserts items in specified index"
   ]
  },
  {
   "cell_type": "code",
   "execution_count": 8,
   "id": "1a45cfc4",
   "metadata": {},
   "outputs": [
    {
     "name": "stdout",
     "output_type": "stream",
     "text": [
      "[1, 2, 3, 4, 'SINDU', 5, 6, 7]\n"
     ]
    }
   ],
   "source": [
    "l = [1,2,3,4,5,6,7]\n",
    "l.insert(4,\"SINDU\")\n",
    "print(l)"
   ]
  },
  {
   "cell_type": "markdown",
   "id": "37567d5a",
   "metadata": {},
   "source": [
    "## append method\n",
    "- add an item in the end of the list"
   ]
  },
  {
   "cell_type": "code",
   "execution_count": 9,
   "id": "c2bf5029",
   "metadata": {},
   "outputs": [
    {
     "name": "stdout",
     "output_type": "stream",
     "text": [
      "[1, 2, 3, 4, 5, 6, 7, 94]\n"
     ]
    }
   ],
   "source": [
    "l = [1,2,3,4,5,6,7]\n",
    "l.append(94)\n",
    "print(l)"
   ]
  },
  {
   "cell_type": "code",
   "execution_count": 11,
   "id": "07cffaec",
   "metadata": {},
   "outputs": [
    {
     "name": "stdout",
     "output_type": "stream",
     "text": [
      "[1, 2, 3, 4, 5, 6, 7, 230]\n"
     ]
    }
   ],
   "source": [
    "l = [1,2,3,4,5,6,7]\n",
    "l.append(230)\n",
    "print(l)"
   ]
  },
  {
   "cell_type": "markdown",
   "id": "4bed7257",
   "metadata": {},
   "source": [
    "## EXTEND LIST:\n",
    "- APPEND ELEMENTS FROM ANOTHER LIST TO CURRENT LIST"
   ]
  },
  {
   "cell_type": "code",
   "execution_count": 14,
   "id": "ce6c4199",
   "metadata": {},
   "outputs": [
    {
     "name": "stdout",
     "output_type": "stream",
     "text": [
      "[1, 2, 3, 4, 5, 6, 7, 8, 9, 10]\n"
     ]
    }
   ],
   "source": [
    "l = [1,2,3,4,5,6,7]\n",
    "l1 = [8,9,10]\n",
    "l.extend (l1)\n",
    "print(l)\n"
   ]
  },
  {
   "cell_type": "code",
   "execution_count": 17,
   "id": "ab12f04e",
   "metadata": {},
   "outputs": [
    {
     "name": "stdout",
     "output_type": "stream",
     "text": [
      "[12, 13, 14, 1, 2, 3, 4, 5, 6, 7]\n"
     ]
    }
   ],
   "source": [
    "l = [1,2,3,4,5,6,7]\n",
    "l1 = [12,13,14]\n",
    "l1.extend (l)\n",
    "print(l1)"
   ]
  },
  {
   "cell_type": "markdown",
   "id": "34239657",
   "metadata": {},
   "source": [
    "## remove method:\n",
    "- it removes elements from the list"
   ]
  },
  {
   "cell_type": "code",
   "execution_count": 18,
   "id": "65dc7d7f",
   "metadata": {},
   "outputs": [
    {
     "name": "stdout",
     "output_type": "stream",
     "text": [
      "[1, 2, 3, 4, 5, 7]\n"
     ]
    }
   ],
   "source": [
    "l = [1,2,3,4,5,6,7]\n",
    "l.remove(6)\n",
    "print(l)"
   ]
  },
  {
   "cell_type": "markdown",
   "id": "1ed5406e",
   "metadata": {},
   "source": [
    "## pop method:\n",
    "- it removes specified index"
   ]
  },
  {
   "cell_type": "code",
   "execution_count": 19,
   "id": "2f4abcd4",
   "metadata": {},
   "outputs": [
    {
     "name": "stdout",
     "output_type": "stream",
     "text": [
      "[1, 2, 3, 4, 5, 7]\n"
     ]
    }
   ],
   "source": [
    "l = [1,2,3,4,5,6,7]\n",
    "l.pop(5)\n",
    "print(l)"
   ]
  },
  {
   "cell_type": "markdown",
   "id": "35685f83",
   "metadata": {},
   "source": [
    "## DEL Keyword\n",
    "- it removes specified index"
   ]
  },
  {
   "cell_type": "code",
   "execution_count": 25,
   "id": "5d6fb562",
   "metadata": {},
   "outputs": [
    {
     "name": "stdout",
     "output_type": "stream",
     "text": [
      "[1, 2, 4, 5, 6, 7]\n"
     ]
    }
   ],
   "source": [
    "l = [1,2,3,4,5,6,7]\n",
    "del l[2]\n",
    "print(l)"
   ]
  },
  {
   "cell_type": "markdown",
   "id": "65055642",
   "metadata": {},
   "source": [
    "## clear method:\n",
    "- it empties the list"
   ]
  },
  {
   "cell_type": "code",
   "execution_count": 22,
   "id": "91b1a5fb",
   "metadata": {},
   "outputs": [
    {
     "data": {
      "text/plain": [
       "[]"
      ]
     },
     "execution_count": 22,
     "metadata": {},
     "output_type": "execute_result"
    }
   ],
   "source": [
    "l = [1,2,3,4,5,6,7]\n",
    "l.clear()\n",
    "l"
   ]
  },
  {
   "cell_type": "markdown",
   "id": "36756b0e",
   "metadata": {},
   "source": [
    "# sort method:\n",
    "- it will sort the list in ascending order"
   ]
  },
  {
   "cell_type": "code",
   "execution_count": 24,
   "id": "f24bc5d1",
   "metadata": {},
   "outputs": [
    {
     "data": {
      "text/plain": [
       "[3, 5, 6, 9, 23, 56, 89, 93, 94]"
      ]
     },
     "execution_count": 24,
     "metadata": {},
     "output_type": "execute_result"
    }
   ],
   "source": [
    "l = [5,3,9,6,89,56,23,94,93]\n",
    "l.sort()\n",
    "l"
   ]
  },
  {
   "cell_type": "markdown",
   "id": "28cab532",
   "metadata": {},
   "source": [
    "# REVERSE METHOD:"
   ]
  },
  {
   "cell_type": "code",
   "execution_count": 26,
   "id": "e720308c",
   "metadata": {},
   "outputs": [
    {
     "name": "stdout",
     "output_type": "stream",
     "text": [
      "[7, 6, 5, 4, 3, 2, 1]\n"
     ]
    }
   ],
   "source": [
    "l = [1,2,3,4,5,6,7]\n",
    "l.reverse()\n",
    "print(l)"
   ]
  },
  {
   "cell_type": "markdown",
   "id": "34e9d8e9",
   "metadata": {},
   "source": [
    "# copy method:"
   ]
  },
  {
   "cell_type": "code",
   "execution_count": 27,
   "id": "b0a55c94",
   "metadata": {},
   "outputs": [
    {
     "name": "stdout",
     "output_type": "stream",
     "text": [
      "[1, 2, 3, 4, 5, 6, 7]\n"
     ]
    }
   ],
   "source": [
    "l = [1,2,3,4,5,6,7]\n",
    "l1 = l.copy()\n",
    "print(l1)"
   ]
  },
  {
   "cell_type": "markdown",
   "id": "c8507f70",
   "metadata": {},
   "source": [
    "## Count():"
   ]
  },
  {
   "cell_type": "code",
   "execution_count": 29,
   "id": "90e02a5d",
   "metadata": {},
   "outputs": [
    {
     "name": "stdout",
     "output_type": "stream",
     "text": [
      "2\n"
     ]
    }
   ],
   "source": [
    "l = [1,2,3,4,5,6,7,4]\n",
    "l1 = l.count(4)\n",
    "print(l1)"
   ]
  },
  {
   "cell_type": "markdown",
   "id": "2711190e",
   "metadata": {},
   "source": [
    "## INDEX:"
   ]
  },
  {
   "cell_type": "code",
   "execution_count": 31,
   "id": "5c6c061e",
   "metadata": {},
   "outputs": [
    {
     "name": "stdout",
     "output_type": "stream",
     "text": [
      "4\n"
     ]
    }
   ],
   "source": [
    "l = [1,2,3,4,5,6,7]\n",
    "l1 = l.index(5)\n",
    "print(l1)"
   ]
  },
  {
   "cell_type": "code",
   "execution_count": 32,
   "id": "cd3d9623",
   "metadata": {},
   "outputs": [
    {
     "name": "stdout",
     "output_type": "stream",
     "text": [
      "7\n",
      "7\n",
      "1\n",
      "28\n",
      "4.0\n"
     ]
    }
   ],
   "source": [
    "l = [1,2,3,4,5,6,7]\n",
    "# length of list\n",
    "print(len(l))\n",
    "print(max(l)) # maximum number\n",
    "print(min(l)) # minimum number\n",
    "print(sum(l))\n",
    "# average\n",
    "print(sum(l)/len(l))"
   ]
  },
  {
   "cell_type": "markdown",
   "id": "37e09f72",
   "metadata": {},
   "source": [
    "## TUPLE:\n",
    "- IT CANNOT BE CHANGED OR MODIFIED\n",
    "- TUPLE ENCLOSED WITH ROUND BRACKETS AND ITEMS ARE SEPERATED BY COMMAS"
   ]
  },
  {
   "cell_type": "markdown",
   "id": "439019ce",
   "metadata": {},
   "source": [
    "# DIFFERENCE BETWEEN LIST AND TUPLE\n",
    "- "
   ]
  },
  {
   "cell_type": "code",
   "execution_count": 33,
   "id": "08b2be00",
   "metadata": {},
   "outputs": [
    {
     "name": "stdout",
     "output_type": "stream",
     "text": [
      "(1, 2, 3, 4, 5, 6, 7)\n"
     ]
    }
   ],
   "source": [
    "t = (1,2,3,4,5,6,7)\n",
    "print(t)"
   ]
  },
  {
   "cell_type": "code",
   "execution_count": 34,
   "id": "d816a722",
   "metadata": {},
   "outputs": [
    {
     "name": "stdout",
     "output_type": "stream",
     "text": [
      "(3, 4, 5, 6)\n"
     ]
    }
   ],
   "source": [
    "# access the range elements\n",
    "t = (1,2,3,4,5,6,7)\n",
    "print(t[2:6])\n"
   ]
  },
  {
   "cell_type": "code",
   "execution_count": 35,
   "id": "5aa87b7e",
   "metadata": {},
   "outputs": [
    {
     "name": "stdout",
     "output_type": "stream",
     "text": [
      "1\n"
     ]
    }
   ],
   "source": [
    "# access the elements\n",
    "t = (1,2,3,4,5,6,7)\n",
    "print(t[0])"
   ]
  },
  {
   "cell_type": "code",
   "execution_count": 38,
   "id": "080c0005",
   "metadata": {},
   "outputs": [
    {
     "name": "stdout",
     "output_type": "stream",
     "text": [
      "(1, 2, 3, 4, 5, 6, 7)\n",
      "(1, 2, 3, 4, 5, 94, 7)\n"
     ]
    }
   ],
   "source": [
    "# update\n",
    "l = (1,2,3,4,5,6,7)\n",
    "t1 = list(t)\n",
    "print(t)\n",
    "t1[5] = 94\n",
    "t = tuple(t1)\n",
    "print(t)"
   ]
  },
  {
   "cell_type": "code",
   "execution_count": 45,
   "id": "20ce79e4",
   "metadata": {},
   "outputs": [
    {
     "name": "stdout",
     "output_type": "stream",
     "text": [
      "[1, 2, 3, 4, 5, 6, 7]\n",
      "(1, 2, 3, 4, 5, 6, 7, 94)\n"
     ]
    }
   ],
   "source": [
    "# append\n",
    "t = (1,2,3,4,5,6,7)\n",
    "t1 = list(t)\n",
    "print(t1)\n",
    "t1.append(94)\n",
    "t = tuple(t1)\n",
    "print(t)"
   ]
  },
  {
   "cell_type": "code",
   "execution_count": 46,
   "id": "f1c0fd1b",
   "metadata": {},
   "outputs": [
    {
     "name": "stdout",
     "output_type": "stream",
     "text": [
      "[1, 2, 3, 4, 5, 6, 7]\n",
      "(1, 2, 3, 4, 5, 6, 7, 8, 9, 10)\n"
     ]
    }
   ],
   "source": [
    "# extend\n",
    "t = (1,2,3,4,5,6,7)\n",
    "t1 = list(t)\n",
    "print(t1)\n",
    "t2 = (8,9,10)\n",
    "t1.extend(t2)\n",
    "t = tuple(t1)\n",
    "print(t)\n"
   ]
  },
  {
   "cell_type": "code",
   "execution_count": 47,
   "id": "68f4b6e9",
   "metadata": {},
   "outputs": [
    {
     "name": "stdout",
     "output_type": "stream",
     "text": [
      "[1, 2, 3, 4, 5, 6, 7]\n",
      "(1, 2, 3, 5, 6, 7)\n"
     ]
    }
   ],
   "source": [
    "# remove method\n",
    "t = (1,2,3,4,5,6,7)\n",
    "t1 = list(t)\n",
    "print(t1)\n",
    "t1.remove(4)\n",
    "t = tuple(t1)\n",
    "print(t)"
   ]
  },
  {
   "cell_type": "code",
   "execution_count": 48,
   "id": "4d937b04",
   "metadata": {},
   "outputs": [
    {
     "name": "stdout",
     "output_type": "stream",
     "text": [
      "[1, 2, 3, 4, 5, 6, 7]\n",
      "(1, 2, 3, 4, 5, 6)\n"
     ]
    }
   ],
   "source": [
    "# pop method\n",
    "t = (1,2,3,4,5,6,7)\n",
    "t1 = list(t)\n",
    "print(t1)\n",
    "t1.pop(6)\n",
    "t = tuple(t1)\n",
    "print(t)"
   ]
  },
  {
   "cell_type": "code",
   "execution_count": 51,
   "id": "4cacb6e9",
   "metadata": {},
   "outputs": [
    {
     "name": "stdout",
     "output_type": "stream",
     "text": [
      "[1, 2, 3, 4, 5, 6, 7]\n",
      "(1, 2, 3, 4, 6, 7)\n"
     ]
    }
   ],
   "source": [
    "# del method\n",
    "t = (1,2,3,4,5,6,7)\n",
    "t1 = list(t)\n",
    "print(t1)\n",
    "del t1[4]\n",
    "t = tuple(t1)\n",
    "print(t)\n"
   ]
  },
  {
   "cell_type": "code",
   "execution_count": 53,
   "id": "770676ca",
   "metadata": {},
   "outputs": [
    {
     "name": "stdout",
     "output_type": "stream",
     "text": [
      "()\n"
     ]
    }
   ],
   "source": [
    "# clear method\n",
    "t = (1,2,3,4,5,6,7)\n",
    "t1 = list(t)\n",
    "t1.clear()\n",
    "t = tuple(t1)\n",
    "print(t)"
   ]
  },
  {
   "cell_type": "code",
   "execution_count": 55,
   "id": "ec65a96c",
   "metadata": {},
   "outputs": [
    {
     "name": "stdout",
     "output_type": "stream",
     "text": [
      "(1, 2, 3, 4, 5, 6, 7, 8)\n"
     ]
    }
   ],
   "source": [
    "# sort method\n",
    "t = (5,1,2,3,4,8,6,7)\n",
    "t1 = list(t)\n",
    "t1.sort()\n",
    "t = tuple(t1)\n",
    "print(t)\n",
    "\n",
    "    "
   ]
  },
  {
   "cell_type": "code",
   "execution_count": 56,
   "id": "4472a66d",
   "metadata": {},
   "outputs": [
    {
     "name": "stdout",
     "output_type": "stream",
     "text": [
      "(7, 6, 5, 4, 3, 2, 1)\n"
     ]
    }
   ],
   "source": [
    "# reverse method\n",
    "t = (1,2,3,4,5,6,7)\n",
    "t1 = list(t)\n",
    "t1.reverse()\n",
    "t = tuple(t1)\n",
    "print(t)\n"
   ]
  },
  {
   "cell_type": "code",
   "execution_count": 57,
   "id": "c279eca8",
   "metadata": {},
   "outputs": [
    {
     "name": "stdout",
     "output_type": "stream",
     "text": [
      "(1, 2, 3, 4, 5, 6, 7)\n"
     ]
    }
   ],
   "source": [
    "# copy method\n",
    "t = (1,2,3,4,5,6,7)\n",
    "t1 = list(t)\n",
    "t2 = t1.copy()\n",
    "t = tuple(t2)\n",
    "print(t)"
   ]
  },
  {
   "cell_type": "code",
   "execution_count": 63,
   "id": "6a7cd26f",
   "metadata": {},
   "outputs": [
    {
     "ename": "TypeError",
     "evalue": "'builtin_function_or_method' object is not subscriptable",
     "output_type": "error",
     "traceback": [
      "\u001b[1;31m---------------------------------------------------------------------------\u001b[0m",
      "\u001b[1;31mTypeError\u001b[0m                                 Traceback (most recent call last)",
      "\u001b[1;32mC:\\Users\\USER20~1\\AppData\\Local\\Temp/ipykernel_172/3425863571.py\u001b[0m in \u001b[0;36m<module>\u001b[1;34m\u001b[0m\n\u001b[0;32m      2\u001b[0m \u001b[0mt\u001b[0m \u001b[1;33m=\u001b[0m \u001b[1;33m(\u001b[0m\u001b[1;36m1\u001b[0m\u001b[1;33m,\u001b[0m\u001b[1;36m2\u001b[0m\u001b[1;33m,\u001b[0m\u001b[1;36m3\u001b[0m\u001b[1;33m,\u001b[0m\u001b[1;36m4\u001b[0m\u001b[1;33m,\u001b[0m\u001b[1;36m5\u001b[0m\u001b[1;33m,\u001b[0m\u001b[1;36m6\u001b[0m\u001b[1;33m,\u001b[0m\u001b[1;36m7\u001b[0m\u001b[1;33m)\u001b[0m\u001b[1;33m\u001b[0m\u001b[1;33m\u001b[0m\u001b[0m\n\u001b[0;32m      3\u001b[0m \u001b[0mt1\u001b[0m \u001b[1;33m=\u001b[0m \u001b[0mlist\u001b[0m\u001b[1;33m(\u001b[0m\u001b[0mt\u001b[0m\u001b[1;33m)\u001b[0m\u001b[1;33m\u001b[0m\u001b[1;33m\u001b[0m\u001b[0m\n\u001b[1;32m----> 4\u001b[1;33m \u001b[0mt2\u001b[0m \u001b[1;33m=\u001b[0m \u001b[0mt1\u001b[0m\u001b[1;33m.\u001b[0m\u001b[0mindex\u001b[0m\u001b[1;33m[\u001b[0m\u001b[1;36m5\u001b[0m\u001b[1;33m]\u001b[0m\u001b[1;33m\u001b[0m\u001b[1;33m\u001b[0m\u001b[0m\n\u001b[0m\u001b[0;32m      5\u001b[0m \u001b[0mt\u001b[0m \u001b[1;33m=\u001b[0m \u001b[0mtuple\u001b[0m\u001b[1;33m(\u001b[0m\u001b[0mt2\u001b[0m\u001b[1;33m)\u001b[0m\u001b[1;33m\u001b[0m\u001b[1;33m\u001b[0m\u001b[0m\n\u001b[0;32m      6\u001b[0m \u001b[0mprint\u001b[0m\u001b[1;33m(\u001b[0m\u001b[0mt\u001b[0m\u001b[1;33m)\u001b[0m\u001b[1;33m\u001b[0m\u001b[1;33m\u001b[0m\u001b[0m\n",
      "\u001b[1;31mTypeError\u001b[0m: 'builtin_function_or_method' object is not subscriptable"
     ]
    }
   ],
   "source": [
    "# index method\n",
    "t = (1,2,3,4,5,6,7)\n",
    "t1 = list(t)\n",
    "t2 = t1.index(5)\n",
    "t = tuple(t2)\n",
    "print(t)"
   ]
  },
  {
   "cell_type": "code",
   "execution_count": 65,
   "id": "1644c60f",
   "metadata": {},
   "outputs": [
    {
     "ename": "TypeError",
     "evalue": "'int' object is not iterable",
     "output_type": "error",
     "traceback": [
      "\u001b[1;31m---------------------------------------------------------------------------\u001b[0m",
      "\u001b[1;31mTypeError\u001b[0m                                 Traceback (most recent call last)",
      "\u001b[1;32mC:\\Users\\USER20~1\\AppData\\Local\\Temp/ipykernel_172/1742438129.py\u001b[0m in \u001b[0;36m<module>\u001b[1;34m\u001b[0m\n\u001b[0;32m      3\u001b[0m \u001b[0mt1\u001b[0m \u001b[1;33m=\u001b[0m \u001b[0mlist\u001b[0m\u001b[1;33m(\u001b[0m\u001b[0mt\u001b[0m\u001b[1;33m)\u001b[0m\u001b[1;33m\u001b[0m\u001b[1;33m\u001b[0m\u001b[0m\n\u001b[0;32m      4\u001b[0m \u001b[0mt2\u001b[0m \u001b[1;33m=\u001b[0m \u001b[0mt1\u001b[0m\u001b[1;33m.\u001b[0m\u001b[0mcount\u001b[0m\u001b[1;33m(\u001b[0m\u001b[1;36m1\u001b[0m\u001b[1;33m)\u001b[0m\u001b[1;33m\u001b[0m\u001b[1;33m\u001b[0m\u001b[0m\n\u001b[1;32m----> 5\u001b[1;33m \u001b[0mt\u001b[0m \u001b[1;33m=\u001b[0m \u001b[0mtuple\u001b[0m\u001b[1;33m(\u001b[0m\u001b[0mt2\u001b[0m\u001b[1;33m)\u001b[0m\u001b[1;33m\u001b[0m\u001b[1;33m\u001b[0m\u001b[0m\n\u001b[0m\u001b[0;32m      6\u001b[0m \u001b[0mprint\u001b[0m\u001b[1;33m(\u001b[0m\u001b[0mt\u001b[0m\u001b[1;33m)\u001b[0m\u001b[1;33m\u001b[0m\u001b[1;33m\u001b[0m\u001b[0m\n",
      "\u001b[1;31mTypeError\u001b[0m: 'int' object is not iterable"
     ]
    }
   ],
   "source": [
    "# count\n",
    "t = (1,2,3,4,5,6,7,1)\n",
    "t1 = list(t)\n",
    "t2 = t1.count(1)\n",
    "t = tuple(t2)\n",
    "print(t)\n"
   ]
  },
  {
   "cell_type": "code",
   "execution_count": null,
   "id": "4b354259",
   "metadata": {},
   "outputs": [],
   "source": []
  }
 ],
 "metadata": {
  "kernelspec": {
   "display_name": "Python 3 (ipykernel)",
   "language": "python",
   "name": "python3"
  },
  "language_info": {
   "codemirror_mode": {
    "name": "ipython",
    "version": 3
   },
   "file_extension": ".py",
   "mimetype": "text/x-python",
   "name": "python",
   "nbconvert_exporter": "python",
   "pygments_lexer": "ipython3",
   "version": "3.9.7"
  }
 },
 "nbformat": 4,
 "nbformat_minor": 5
}
